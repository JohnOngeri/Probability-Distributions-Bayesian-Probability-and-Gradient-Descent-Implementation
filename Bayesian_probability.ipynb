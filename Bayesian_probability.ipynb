{
  "nbformat": 4,
  "nbformat_minor": 0,
  "metadata": {
    "colab": {
      "provenance": [],
      "include_colab_link": true
    },
    "kernelspec": {
      "name": "python3",
      "display_name": "Python 3"
    },
    "language_info": {
      "name": "python"
    }
  },
  "cells": [
    {
      "cell_type": "markdown",
      "metadata": {
        "id": "view-in-github",
        "colab_type": "text"
      },
      "source": [
        "<a href=\"https://colab.research.google.com/github/JohnOngeri/Probability-Distributions-Bayesian-Probability-and-Gradient-Descent-Implementation/blob/main/Bayesian_probability.ipynb\" target=\"_parent\"><img src=\"https://colab.research.google.com/assets/colab-badge.svg\" alt=\"Open In Colab\"/></a>"
      ]
    },
    {
      "cell_type": "markdown",
      "source": [
        "Bayes' Theorem to predict a student's probability of passing an exam based on study hours and past quiz performance.\n",
        "Breakdown of the Bayesian Update Process:\n",
        "Prior Probability (P(Pass)) → Initial assumption about the likelihood of passing.\n",
        "Likelihood (P(Data | Pass)) → Probability of study habits given that the student passes.\n",
        "Marginal Probability (P(Data)) → The overall probability of the observed data.\n",
        "Posterior Probability (P(Pass | Data)) → Updated probability after considering new data."
      ],
      "metadata": {
        "id": "4g9s3Z98vgYC"
      }
    },
    {
      "cell_type": "code",
      "source": [
        "import numpy as np\n",
        "\n",
        "# Define the prior probability: Probability of passing before new evidence\n",
        "prior_pass = 0.7  # Assume 70% of students typically pass"
      ],
      "metadata": {
        "id": "mQDsfge4v7gH"
      },
      "execution_count": null,
      "outputs": []
    },
    {
      "cell_type": "code",
      "source": [
        "# Define likelihoods based on study hours and quiz scores\n",
        "def likelihood(study_hours, quiz_score):\n",
        "    \"\"\"Returns P(Data | Pass) and P(Data | Fail) based on study hours and quiz scores.\"\"\"\n",
        "    # Assume Gaussian distribution for study hours and quiz scores\n",
        "    mean_pass_study = 6  # Average study hours for those who pass\n",
        "    std_pass_study = 2\n",
        "    mean_fail_study = 3  # Average study hours for those who fail\n",
        "    std_fail_study = 1.5\n",
        "\n",
        "    mean_pass_quiz = 80  # Average quiz score for those who pass\n",
        "\n",
        "    # Compute posterior probability using Bayes' Theorem\n",
        "def bayesian_update(study_hours, quiz_score):\n",
        "    p_data_given_pass, p_data_given_fail = likelihood(study_hours, quiz_score)\n",
        "\n",
        "    # Compute marginal probability\n",
        "    p_fail = 1 - prior_pass\n",
        "    p_data = (p_data_given_pass * prior_pass) + (p_data_given_fail * p_fail)\n",
        "\n",
        "    # Compute posterior probability\n",
        "    posterior_pass = (p_data_given_pass * prior_pass) / p_data\n",
        "\n",
        "    return posterior_pass"
      ],
      "metadata": {
        "id": "DjZYux9Mwbnm"
      },
      "execution_count": null,
      "outputs": []
    },
    {
      "cell_type": "code",
      "source": [
        "# Example: Student with 5 study hours and a quiz score of 75\n",
        "study_hours = 5\n",
        "quiz_score = 75\n",
        "posterior_probability = bayesian_update(study_hours, quiz_score)"
      ],
      "metadata": {
        "id": "2wMIvPmVyOV0"
      },
      "execution_count": null,
      "outputs": []
    }
  ]
}