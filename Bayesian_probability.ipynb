{
  "nbformat": 4,
  "nbformat_minor": 0,
  "metadata": {
    "colab": {
      "provenance": [],
      "include_colab_link": true
    },
    "kernelspec": {
      "name": "python3",
      "display_name": "Python 3"
    },
    "language_info": {
      "name": "python"
    }
  },
  "cells": [
    {
      "cell_type": "markdown",
      "metadata": {
        "id": "view-in-github",
        "colab_type": "text"
      },
      "source": [
        "<a href=\"https://colab.research.google.com/github/JohnOngeri/Probability-Distributions-Bayesian-Probability-and-Gradient-Descent-Implementation/blob/main/Bayesian_probability.ipynb\" target=\"_parent\"><img src=\"https://colab.research.google.com/assets/colab-badge.svg\" alt=\"Open In Colab\"/></a>"
      ]
    },
    {
      "cell_type": "markdown",
      "source": [
        "Bayes' Theorem to predict a student's probability of passing an exam based on study hours and past quiz performance.\n",
        "Breakdown of the Bayesian Update Process:\n",
        "Prior Probability (P(Pass)) → Initial assumption about the likelihood of passing.\n",
        "Likelihood (P(Data | Pass)) → Probability of study habits given that the student passes.\n",
        "Marginal Probability (P(Data)) → The overall probability of the observed data.\n",
        "Posterior Probability (P(Pass | Data)) → Updated probability after considering new data."
      ],
      "metadata": {
        "id": "4g9s3Z98vgYC"
      }
    },
    {
      "cell_type": "code",
      "source": [
        "import numpy as np\n",
        "\n",
        "# Define the prior probability: Probability of passing before new evidence\n",
        "prior_pass = 0.7  # Assume 70% of students typically pass"
      ],
      "metadata": {
        "id": "mQDsfge4v7gH"
      },
      "execution_count": 1,
      "outputs": []
    }
  ]
}